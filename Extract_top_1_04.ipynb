{
  "nbformat": 4,
  "nbformat_minor": 0,
  "metadata": {
    "colab": {
      "name": "Extract top 1.04.ipynb",
      "provenance": [],
      "collapsed_sections": []
    },
    "kernelspec": {
      "name": "python3",
      "display_name": "Python 3"
    },
    "language_info": {
      "name": "python"
    }
  },
  "cells": [
    {
      "cell_type": "markdown",
      "metadata": {
        "id": "bvIQ8RLXRvGL"
      },
      "source": [
        "# **Downloads**\n",
        "Install fasttext, get language predictor and download Wikimatrix data"
      ]
    },
    {
      "cell_type": "code",
      "metadata": {
        "id": "YVNt1Uo3OEV1"
      },
      "source": [
        "!pip install fasttext\n",
        "!wget \"https://dl.fbaipublicfiles.com/fasttext/supervised-models/lid.176.ftz\"\n",
        "!wget https://dl.fbaipublicfiles.com/laser/WikiMatrix/v1/WikiMatrix.en-hr.tsv.gz"
      ],
      "execution_count": 8,
      "outputs": []
    },
    {
      "cell_type": "code",
      "metadata": {
        "id": "DlIZi6i8OJ6s"
      },
      "source": [
        "#Imports\n",
        "import time\n",
        "import pandas as pd\n",
        "import numpy as np\n",
        "import matplotlib.pyplot as plt\n",
        "import os\n",
        "import lzma\n",
        "import gzip\n",
        "import fasttext\n",
        "import csv\n",
        "import unicodedata\n",
        "import re\n",
        "import time\n",
        "import spacy"
      ],
      "execution_count": 2,
      "outputs": []
    },
    {
      "cell_type": "markdown",
      "metadata": {
        "id": "lQwvbSH3Sln1"
      },
      "source": [
        "# **Functions**\n",
        "\n",
        "Quality tests for sentences"
      ]
    },
    {
      "cell_type": "code",
      "metadata": {
        "id": "uWUTTfvBOarR"
      },
      "source": [
        "def preprocess(text):\n",
        "    text = re.sub(r'\\r\\n|\\r|\\n|\\\\n', ' ', text) #Eliminate \\n\n",
        "    text = text.lower()\n",
        "    return unicodedata.normalize(\"NFKD\", text) # Standarize spaces, etc\n",
        "\n",
        "def toosimilar(t1,t2, threshold=0.5):\n",
        "    '''Compares if frantion of tokens in t1 present in t2 is higher than threshold'''\n",
        "    matches = sum([t in t2 for t in t1.split()])\n",
        "    return matches/len(t1.split())>threshold\n",
        " \n",
        "\n",
        "def langdetect(t1,t2, lang1, lang2):\n",
        "    '''Check if sentence 1 is in language 1 and sentence 2 in language 2'''\n",
        "    return all([LangDetect.predict(t1)[0][0][-2:] == lang1,LangDetect.predict(t2)[0][0][-2:] == lang2])\n",
        "\n",
        "def conditionsENG(word):\n",
        "    '''English words should only contain [a-z]. Check if true'''\n",
        "    regex = r\"([a-z])+\" #\"|[âçèéêîôû])+\" \n",
        "    match = re.match(regex, word.lower())\n",
        "    if match is None: \n",
        "        return False\n",
        "    match= match.group(0)\n",
        "    return word == match\n",
        "\n",
        "def AnyMultiples(text):\n",
        "    '''Row structure is: Score \\TAB SentenceENG \\TAB SentenceLANG2 \\TAB \n",
        "    Some rows are, however: Score   SentenceENG   SentenceLANG2  Score   SentenceENG   SentenceLANG2  ... \n",
        "    So x3 \\SPACE instead of \\TAB, which confuses the tsv_reader. We skip these rows, since we already have a whole lot of examples'''\n",
        "    regex = r'[0-9]{8}'\n",
        "    match = re.match(regex, text)\n",
        "    if match is None: \n",
        "        return False\n",
        "    return True\n",
        "\n",
        "def LanguageIsCorrect(t1,t2, lang1, lang2):\n",
        "    return not toosimilar(t1, t2) and langdetect(t1,t2, lang1, lang2)\n",
        "\n",
        "def UpdateDict(dic, t1, t2):\n",
        "    '''1) Process with spacy; 2) Check if token is not ENG of if it's present in translation; 3) Lemmatize and update dictionay;\n",
        "    Returns: dic: updated dictionary dic; lemmatized English sentence'''\n",
        "    for doc in nlp.pipe([t1], batch_size=3000, n_process=1, disable=[\"parser\", \"ner\"]): #lemmatizer\n",
        "        for word in doc:\n",
        "            if conditionsENG(str(word)) == False: continue\n",
        "            if str(word) in t2.split(): continue\n",
        "\n",
        "            lemma = word.lemma_\n",
        "            if lemma not in en_words: continue\n",
        "            if lemma in dic.keys():\n",
        "                dic[lemma] += 1\n",
        "            else: dic[lemma] = 1\n",
        "    return dic, ' '.join([x.lemma_ for x in doc])\n",
        "\n",
        " \n",
        "def SaveVar(data, file):\n",
        "    '''Save variable data to file. For example, goodpairs to \"Sentences_Freqs02-09_ScoreOver1.04_en-hr.txt\" '''\n",
        "    with open(file, 'w') as f:\n",
        "        print(data, file=f)\n"
      ],
      "execution_count": 3,
      "outputs": []
    },
    {
      "cell_type": "code",
      "metadata": {
        "id": "DgxlAPRM3ZUB",
        "colab": {
          "base_uri": "https://localhost:8080/"
        },
        "outputId": "743bda9f-d792-44ae-afc5-d7a3a8c3f38a"
      },
      "source": [
        "# Load English dictionary\n",
        "with open('en_words.txt') as f:\n",
        "    en_words = []\n",
        "    for line in f:\n",
        "      en_words.append(line[:-1])\n",
        "    f.close()\n",
        "\n",
        "LangDetect = fasttext.load_model('lid.176.ftz') # Language Predictor\n",
        "nlp  = spacy.load(\"en_core_web_sm\") # Lemmatizer"
      ],
      "execution_count": 4,
      "outputs": [
        {
          "output_type": "stream",
          "name": "stderr",
          "text": [
            "Warning : `load_model` does not return WordVectorModel or SupervisedModel any more, but a `FastText` object which is very similar.\n"
          ]
        }
      ]
    },
    {
      "cell_type": "code",
      "metadata": {
        "id": "u4qllXYuTR35"
      },
      "source": [
        "# Define Wiktionary languages\n",
        "WikiMatrix = 'WikiMatrix.en-hr.tsv.gz'\n",
        "LANG = 'hr'\n",
        "lang1, lang2 = lang1, lang2 = sorted([LANG, 'en'])"
      ],
      "execution_count": 6,
      "outputs": []
    },
    {
      "cell_type": "markdown",
      "metadata": {
        "id": "4gVTLvHlTIcq"
      },
      "source": [
        "# **Create dictionary of lemmas**\n",
        "\n",
        "Go through all rows in tsv Wikimatrix file with Score > 1.04, perform quality tests for sentences.\n",
        "The good sentences get lemmatized and their lemmas get stored in dictionary dic with a counter of occurences\n",
        "The lemmatized sentences are stored in list sentence_lemmas. This avoids double lemmatization in posterior steps and saves much time, since this is the most time-consuming step."
      ]
    },
    {
      "cell_type": "code",
      "metadata": {
        "id": "CuRmp6Zt9RdR"
      },
      "source": [
        " sentence_lemmas = []\n",
        "dic = {}\n",
        "start_time = time.time()\n",
        "threshold = 1e36\n",
        "\n",
        "with gzip.open(WikiMatrix, 'rt') as f:\n",
        "\n",
        "    tsv_reader = csv.reader(f, delimiter=\"\\t\")\n",
        "    number_of_lines = int(1e6)\n",
        "    i,j = -1,0\n",
        "    \n",
        "    for row in tsv_reader:\n",
        "        if float(row[0]) < 1.04: break\n",
        "        \n",
        "        #Print progress\n",
        "        if i%10000 == 0:\n",
        "            print(\"Encoding of \"+ str(j/1000000)+ \" mill out of \"+ str(i/1000000)+\n",
        "                  \" mill sentences done after {:.2f} sec. \".format(time.time() - start_time),\"Score: {:.2f}\".format(float(row[0])))\n",
        "        \n",
        "        i+=1\n",
        "        #Quicktests for skipping unvaluable rows\n",
        "        if len(row)<3: continue #Skip untranslated\n",
        "        if len(row[1])>400: continue #Skip too long\n",
        "        if AnyMultiples(row[1]): continue #Skip wrongly parsed\n",
        "        \n",
        "         \n",
        "        row[1:] = [preprocess(text) for text in row[1:]] #Preprocess sentences\n",
        "\n",
        "        #Append to dics\n",
        "        if  LanguageIsCorrect(row[1], row[2], lang1, lang2):\n",
        "            dic, row_lemma = UpdateDict(dic, row[1],row[2])\n",
        "            sentence_lemmas.append(row_lemma)\n",
        "            j+=1\n",
        "\n",
        "        else: sentence_lemmas.append(None)  \n",
        "              \n",
        "print(\"Encoding of \"+ str(j/1000000)+ \" mill out of \"+ str(i/1000000)+\n",
        "                  \" mill sentences done after {:.2f} sec\".format(time.time() - start_time)) \n",
        "# Sort by frequency\n",
        "dic = dict(sorted(dic.items(), key=lambda item: item[1], reverse=True))      "
      ],
      "execution_count": 8,
      "outputs": []
    },
    {
      "cell_type": "code",
      "metadata": {
        "id": "hzM5AWDpOhKW"
      },
      "source": [
        "# Save sentence_lemmas to file\n",
        "var, file = sentence_lemmas, 'sentence_lemmas_{}-{}.txt'.format(lang1,lang2)\n",
        "SaveVar(var, file)\n",
        "\n",
        "# Save dic to file\n",
        "var, file = dic, 'dict_lemmas_{}-{}.txt'.format(lang1,lang2)\n",
        "SaveVar(var, file)"
      ],
      "execution_count": null,
      "outputs": []
    },
    {
      "cell_type": "markdown",
      "metadata": {
        "id": "-5IHZlchqIpF"
      },
      "source": [
        "# **Statistical analysis**\n"
      ]
    },
    {
      "cell_type": "code",
      "metadata": {
        "colab": {
          "base_uri": "https://localhost:8080/",
          "height": 338
        },
        "id": "eCPv1CFUqM1q",
        "outputId": "688f13ee-fb17-4972-9933-3f85b59906a8"
      },
      "source": [
        "def PlotFreq(dic, n = None, m=9):\n",
        "    diclist = list(dic.values())\n",
        "    index9 = 0\n",
        "    if n!= None:\n",
        "        x =[i for i in diclist if i>n and i<m]\n",
        "    else: x = dictlist\n",
        "    \n",
        "    #y = list(dic.keys())[:len(x)]\n",
        "    plt.plot(x);\n",
        "    plt.xlabel('Number of unique tokens')\n",
        "    plt.ylabel('Frequency')\n",
        "    plt.suptitle('Tokens that occur between %d and 100 times' %(n+1), size=14)\n",
        "    plt.title('Size of reduced Corpus: %d Sentence pairs' %threshold, size=10)\n",
        "    plt.figtext(0.5, -0.02, \"Total: %d\" %len(diclist), ha=\"center\", fontsize=10)\n",
        "\n",
        "PlotFreq(dic,2,100)"
      ],
      "execution_count": null,
      "outputs": [
        {
          "output_type": "execute_result",
          "data": {
            "text/plain": [
              "15623"
            ]
          },
          "metadata": {},
          "execution_count": 34
        },
        {
          "output_type": "display_data",
          "data": {
            "image/png": "[encoded data removed]",
            "text/plain": [
              "<Figure size 432x288 with 1 Axes>"
            ]
          },
          "metadata": {
            "needs_background": "light"
          }
        }
      ]
    },
    {
      "cell_type": "code",
      "metadata": {
        "id": "tk-3l2ChVBOm"
      },
      "source": [
        "def Create_dic_red(dic,n=2,m=9):\n",
        "  '''Reduce dictionary to lemmas with frequencies between n and m. Default: from 2 to 9'''\n",
        "  dic = dict(sorted(dic.items(), key=lambda item: item[1], reverse=True)) # Sort in descending order of frequencies\n",
        "  index2 = diclist.index(n)-1\n",
        "  index9 = diclist.index(m)\n",
        "  return list(dic.keys())[index9:index2]\n",
        "\n",
        "\n",
        "# Reduce dictionary \n",
        "dic_red = Create_dic_red(dic)"
      ],
      "execution_count": null,
      "outputs": []
    },
    {
      "cell_type": "markdown",
      "metadata": {
        "id": "JGx9-kgiPJVb"
      },
      "source": [
        "#**Extract good examples**"
      ]
    },
    {
      "cell_type": "code",
      "metadata": {
        "colab": {
          "base_uri": "https://localhost:8080/",
          "height": 1000
        },
        "id": "y5oOlw5hpnli",
        "outputId": "5de3cbcf-36e3-4602-9d98-03b12bf38524"
      },
      "source": [
        "def ExtractSenteces(t1,t2):\n",
        "  '''Inputs: lemmatized ENG sentence; LANG2 sentence\n",
        "    Go through lemmas in t1 and 1) Check if lemma is ENG or is present in LANG2 sentence; \n",
        "    2) Check if there is already one example for the lemma (dic_check)\n",
        "    3) Check if lemma is in reduced dictionary. \n",
        "    4) If so, add to dic_check and extract sentence appending it to list goodpairs. \n",
        "    Add lemma as new row'''\n",
        "  added = False\n",
        "  for lemma in t1.split(' '):\n",
        "    if conditionsENG(lemma) == False: continue # skip non-english\n",
        "    if lemma in t2.split(): continue # skip untranslated\n",
        "    if lemma in dic_check: continue # skip words for which we already have one sentence\n",
        "    \n",
        "    if lemma in dic_red:\n",
        "      #print('added!')\n",
        "      dic_check.add(lemma) # Add to checking list\n",
        "      if added==False: goodpairs.append(row+[lemma]) # Add sentece to goodpairs with found lemma in new column\n",
        "      if added==True: goodpairs[-1]+=[lemma] # Add in new column to the already added goodpairs sentence\n",
        "      added = True\n",
        "    else: continue\n",
        "\n",
        "dic_check = {''}\n",
        "goodpairs = []\n",
        "start_time = time.time()\n",
        "allowprint = True\n",
        "\n",
        "with gzip.open(WikiMatrix, 'rt') as f:\n",
        "\n",
        "    tsv_reader = csv.reader(f, delimiter=\"\\t\")\n",
        "    i,j = -1,0\n",
        "    \n",
        "    for row in tsv_reader:\n",
        "        if score<1.04: break\n",
        "        \n",
        "        #Print progress\n",
        "        if i%10000 == 0:\n",
        "            print(\"Encoding of \"+ str(j)+ \" out of \"+ str(i)+\n",
        "            \" sentences done after {:.2f} sec. \".format(time.time() - start_time),\"Score: {:.2f}\".format(float(row[0])))\n",
        "        \n",
        "        i+=1\n",
        "        #Quicktests for skipping unvaluable rows\n",
        "        if type(lemmas) is not str: continue #Skip non-matched\n",
        "        if len(row)<3: continue #Skip untranslated\n",
        "        if len(row[1])>400: continue #Skip too long\n",
        "        if AnyMultiples(row[1]): continue\n",
        "        \n",
        "        else: ExtractSenteces(lemmas, row[2]); j+=1 \n",
        "\n",
        "        if len(goodpairs) % 100 == 0 and len(goodpairs)>0 and allowprint: \n",
        "          print(len(goodpairs),'/', len(dic_red))\n",
        "          allowprint = False\n",
        "        if len(goodpairs) % 101 == 0: allowprint = True\n",
        "        \n",
        "            \n",
        "print(\"Encoding of \"+ str(j/1000000)+ \" mill out of \"+ str(i/1000000)+\n",
        "                  \" mill sentences done after {:.2f} sec\".format(time.time() - start_time))   "
      ],
      "execution_count": null,
      "outputs": [
        {
          "output_type": "stream",
          "name": "stdout",
          "text": [
            "Encoding of 1 out of 0 sentences done after 0.00 sec.  Score: 1.23\n",
            "100 / 15623\n",
            "200 / 15623\n",
            "300 / 15623\n",
            "400 / 15623\n",
            "500 / 15623\n",
            "600 / 15623\n",
            "700 / 15623\n",
            "800 / 15623\n",
            "900 / 15623\n",
            "1000 / 15623\n",
            "1100 / 15623\n",
            "Encoding of 6622 out of 10000 sentences done after 34.14 sec.  Score: 1.10\n",
            "1200 / 15623\n",
            "1300 / 15623\n",
            "1400 / 15623\n",
            "1500 / 15623\n",
            "1600 / 15623\n",
            "1700 / 15623\n",
            "1800 / 15623\n",
            "1900 / 15623\n",
            "2000 / 15623\n",
            "2100 / 15623\n",
            "2200 / 15623\n",
            "2300 / 15623\n",
            "2400 / 15623\n",
            "2500 / 15623\n",
            "2600 / 15623\n",
            "Encoding of 13392 out of 20000 sentences done after 75.64 sec.  Score: 1.09\n",
            "2700 / 15623\n",
            "2800 / 15623\n",
            "2900 / 15623\n",
            "3000 / 15623\n",
            "3100 / 15623\n",
            "3200 / 15623\n",
            "3300 / 15623\n",
            "3400 / 15623\n",
            "3500 / 15623\n",
            "3600 / 15623\n",
            "3700 / 15623\n",
            "3800 / 15623\n",
            "3900 / 15623\n",
            "4000 / 15623\n",
            "Encoding of 20338 out of 30000 sentences done after 120.71 sec.  Score: 1.09\n",
            "4100 / 15623\n",
            "4200 / 15623\n",
            "4300 / 15623\n",
            "4400 / 15623\n",
            "4500 / 15623\n",
            "4600 / 15623\n",
            "4700 / 15623\n",
            "4800 / 15623\n",
            "4900 / 15623\n",
            "5000 / 15623\n",
            "5100 / 15623\n",
            "5200 / 15623\n",
            "5300 / 15623\n",
            "5400 / 15623\n",
            "Encoding of 27275 out of 40000 sentences done after 168.46 sec.  Score: 1.08\n",
            "5500 / 15623\n",
            "5600 / 15623\n",
            "5700 / 15623\n",
            "5800 / 15623\n",
            "5900 / 15623\n",
            "6000 / 15623\n",
            "6100 / 15623\n",
            "6200 / 15623\n",
            "6300 / 15623\n",
            "6400 / 15623\n",
            "6500 / 15623\n",
            "6600 / 15623\n",
            "Encoding of 34155 out of 50000 sentences done after 216.85 sec.  Score: 1.08\n",
            "6700 / 15623\n",
            "6800 / 15623\n",
            "6900 / 15623\n",
            "7000 / 15623\n",
            "7100 / 15623\n",
            "7200 / 15623\n",
            "7300 / 15623\n",
            "7400 / 15623\n",
            "7500 / 15623\n",
            "7600 / 15623\n",
            "7700 / 15623\n",
            "7800 / 15623\n",
            "Encoding of 41020 out of 60000 sentences done after 265.53 sec.  Score: 1.08\n",
            "7900 / 15623\n",
            "8000 / 15623\n",
            "8100 / 15623\n",
            "8200 / 15623\n",
            "8300 / 15623\n",
            "8400 / 15623\n",
            "8500 / 15623\n",
            "8600 / 15623\n",
            "8700 / 15623\n",
            "Encoding of 47888 out of 70000 sentences done after 314.08 sec.  Score: 1.07\n",
            "8800 / 15623\n",
            "8900 / 15623\n",
            "9000 / 15623\n",
            "9100 / 15623\n",
            "9200 / 15623\n",
            "9300 / 15623\n",
            "9400 / 15623\n",
            "9500 / 15623\n",
            "Encoding of 54718 out of 80000 sentences done after 362.20 sec.  Score: 1.07\n",
            "9600 / 15623\n",
            "9700 / 15623\n",
            "9800 / 15623\n",
            "9900 / 15623\n",
            "10000 / 15623\n",
            "10100 / 15623\n",
            "10100 / 15623\n",
            "10100 / 15623\n",
            "10200 / 15623\n",
            "Encoding of 61327 out of 90000 sentences done after 409.02 sec.  Score: 1.07\n",
            "10300 / 15623\n",
            "10400 / 15623\n",
            "10500 / 15623\n",
            "10600 / 15623\n",
            "10700 / 15623\n",
            "10800 / 15623\n",
            "10900 / 15623\n",
            "Encoding of 68091 out of 100000 sentences done after 456.28 sec.  Score: 1.06\n",
            "11000 / 15623\n",
            "11100 / 15623\n",
            "11200 / 15623\n",
            "11300 / 15623\n",
            "11400 / 15623\n",
            "Encoding of 74751 out of 110000 sentences done after 502.33 sec.  Score: 1.06\n",
            "11500 / 15623\n",
            "11600 / 15623\n",
            "11700 / 15623\n",
            "11800 / 15623\n",
            "Encoding of 81359 out of 120000 sentences done after 546.85 sec.  Score: 1.06\n",
            "11900 / 15623\n",
            "12000 / 15623\n",
            "12100 / 15623\n",
            "12200 / 15623\n",
            "Encoding of 87890 out of 130000 sentences done after 589.34 sec.  Score: 1.06\n",
            "12300 / 15623\n",
            "12400 / 15623\n",
            "12500 / 15623\n",
            "Encoding of 94409 out of 140000 sentences done after 630.87 sec.  Score: 1.06\n",
            "12600 / 15623\n",
            "12700 / 15623\n",
            "12800 / 15623\n",
            "Encoding of 100906 out of 150000 sentences done after 671.56 sec.  Score: 1.05\n",
            "12900 / 15623\n",
            "13000 / 15623\n",
            "Encoding of 107377 out of 160000 sentences done after 710.30 sec.  Score: 1.05\n",
            "13100 / 15623\n",
            "Encoding of 113679 out of 170000 sentences done after 747.37 sec.  Score: 1.05\n",
            "13200 / 15623\n",
            "13300 / 15623\n",
            "Encoding of 119973 out of 180000 sentences done after 782.96 sec.  Score: 1.05\n",
            "13400 / 15623\n",
            "Encoding of 126261 out of 190000 sentences done after 817.98 sec.  Score: 1.05\n",
            "13500 / 15623\n",
            "Encoding of 132546 out of 200000 sentences done after 852.13 sec.  Score: 1.05\n",
            "13600 / 15623\n",
            "Encoding of 138783 out of 210000 sentences done after 884.73 sec.  Score: 1.04\n",
            "Encoding of 144980 out of 220000 sentences done after 916.46 sec.  Score: 1.04\n",
            "13700 / 15623\n",
            "Encoding of 151113 out of 230000 sentences done after 947.33 sec.  Score: 1.04\n",
            "Encoding of 157286 out of 240000 sentences done after 978.11 sec.  Score: 1.04\n",
            "Encoding of 163366 out of 250000 sentences done after 1007.70 sec.  Score: 1.04\n"
          ]
        },
        {
          "output_type": "error",
          "ename": "IndexError",
          "evalue": "ignored",
          "traceback": [
            "\u001b[0;31m---------------------------------------------------------------------------\u001b[0m",
            "\u001b[0;31mIndexError\u001b[0m                                Traceback (most recent call last)",
            "\u001b[0;32m<ipython-input-136-75409a79a74e>\u001b[0m in \u001b[0;36m<module>\u001b[0;34m()\u001b[0m\n\u001b[1;32m     33\u001b[0m         \u001b[0mi\u001b[0m\u001b[0;34m+=\u001b[0m\u001b[0;36m1\u001b[0m\u001b[0;34m\u001b[0m\u001b[0;34m\u001b[0m\u001b[0m\n\u001b[1;32m     34\u001b[0m \u001b[0;34m\u001b[0m\u001b[0m\n\u001b[0;32m---> 35\u001b[0;31m         \u001b[0mlemmas\u001b[0m \u001b[0;34m=\u001b[0m \u001b[0mX\u001b[0m\u001b[0;34m[\u001b[0m\u001b[0mi\u001b[0m\u001b[0;34m]\u001b[0m\u001b[0;34m\u001b[0m\u001b[0;34m\u001b[0m\u001b[0m\n\u001b[0m\u001b[1;32m     36\u001b[0m \u001b[0;34m\u001b[0m\u001b[0m\n\u001b[1;32m     37\u001b[0m         \u001b[0;31m#row = next(tsv_reader)\u001b[0m\u001b[0;34m\u001b[0m\u001b[0;34m\u001b[0m\u001b[0;34m\u001b[0m\u001b[0m\n",
            "\u001b[0;31mIndexError\u001b[0m: list index out of range"
          ]
        }
      ]
    },
    {
      "cell_type": "code",
      "metadata": {
        "id": "juJHHKlMV068"
      },
      "source": [
        "# Check how many examples and lemmas are included\n",
        "def ShowHowManyGoodpairs(goodpairs):\n",
        "    A = pd.DataFrame(goodpairs)\n",
        "    print(sum(len(np.where(A[A.columns[i]].values != None)[0]) for i in range(3,len(A.columns))), 'lemmas in ', len(goodpairs), 'sentences')\n",
        "\n",
        "ShowHowManyGoodpairs(goodpairs)"
      ],
      "execution_count": null,
      "outputs": []
    },
    {
      "cell_type": "code",
      "metadata": {
        "id": "CP67NQmQXMRM"
      },
      "source": [
        "# Save sentences to file\n",
        "var, file = goodpairs, 'Good_Sentences_{}-{}.txt'.format(lang1,lang2)\n",
        "SaveVar(var, file)\n"
      ],
      "execution_count": null,
      "outputs": []
    }
  ]
}